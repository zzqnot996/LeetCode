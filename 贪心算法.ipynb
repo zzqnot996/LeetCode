{
  "nbformat": 4,
  "nbformat_minor": 0,
  "metadata": {
    "colab": {
      "provenance": [],
      "authorship_tag": "ABX9TyMp5mOnymiB/Obwu89eW2VH",
      "include_colab_link": true
    },
    "kernelspec": {
      "name": "python3",
      "display_name": "Python 3"
    },
    "language_info": {
      "name": "python"
    }
  },
  "cells": [
    {
      "cell_type": "markdown",
      "metadata": {
        "id": "view-in-github",
        "colab_type": "text"
      },
      "source": [
        "<a href=\"https://colab.research.google.com/github/zzqnot996/LeetCode-python/blob/main/%E8%B4%AA%E5%BF%83%E7%AE%97%E6%B3%95.ipynb\" target=\"_parent\"><img src=\"https://colab.research.google.com/assets/colab-badge.svg\" alt=\"Open In Colab\"/></a>"
      ]
    },
    {
      "cell_type": "markdown",
      "source": [
        "**分配问题**"
      ],
      "metadata": {
        "id": "7HpkpGP3cV__"
      }
    },
    {
      "cell_type": "code",
      "source": [],
      "metadata": {
        "id": "joAIeg4scXoL"
      },
      "execution_count": null,
      "outputs": []
    },
    {
      "cell_type": "markdown",
      "source": [
        "**区间问题**"
      ],
      "metadata": {
        "id": "TeJxNBnbcYYV"
      }
    },
    {
      "cell_type": "markdown",
      "source": [
        "**435 无重叠区间**\n",
        "\n",
        "给定一个区间的集合 intervals ，其中 intervals[i] = [starti, endi] 。返回 需要移除区间的最小数量，使剩余区间互不重叠 。\n",
        "\n",
        "\n",
        "\n",
        "示例 1:\n",
        "\n",
        "输入: intervals = [[1,2],[2,3],[3,4],[1,3]]\n",
        "输出: 1\n",
        "解释: 移除 [1,3] 后，剩下的区间没有重叠。\n",
        "示例 2:\n",
        "\n",
        "输入: intervals = [ [1,2], [1,2], [1,2] ]\n",
        "输出: 2\n",
        "解释: 你需要移除两个 [1,2] 来使剩下的区间没有重叠。\n",
        "示例 3:\n",
        "\n",
        "输入: intervals = [ [1,2], [2,3] ]\n",
        "输出: 0\n",
        "解释: 你不需要移除任何区间，因为它们已经是无重叠的了。"
      ],
      "metadata": {
        "id": "-rPeK4EMhUbM"
      }
    },
    {
      "cell_type": "code",
      "source": [
        "# 435 Non-overlappingIntervals medium\n",
        "\n",
        "def eraseOverlapIntervals(intervals):\n",
        "    if not intervals:\n",
        "        return 0\n",
        "\n",
        "    n = len(intervals)\n",
        "    intervals.sort(key=lambda x: x[1]) # lambda x: x[1] 是一个匿名函数（lambda函数）的表示方式，它接受一个参数 x，并返回 x[1]\n",
        "    total = 0\n",
        "    prev = intervals[0][1]\n",
        "\n",
        "    for i in range(1, n):\n",
        "        if intervals[i][0] < prev:  # 如果比第一个位置的末尾小\n",
        "            total += 1\n",
        "        else:\n",
        "            prev = intervals[i][1]\n",
        "\n",
        "    return total\n",
        "\n",
        "\n",
        "eraseOverlapIntervals([[1,2], [2,4], [1,3]])"
      ],
      "metadata": {
        "colab": {
          "base_uri": "https://localhost:8080/"
        },
        "id": "jtFTFhC8cbUp",
        "outputId": "0eeda0ae-c091-4643-ed36-e1dc86411855"
      },
      "execution_count": 4,
      "outputs": [
        {
          "output_type": "execute_result",
          "data": {
            "text/plain": [
              "1"
            ]
          },
          "metadata": {},
          "execution_count": 4
        }
      ]
    },
    {
      "cell_type": "markdown",
      "source": [
        "**605 种花问题**\n",
        "\n",
        "\n",
        "假设有一个很长的花坛，一部分地块种植了花，另一部分却没有。可是，花不能种植在相邻的地块上，它们会争夺水源，两者都会死去。\n",
        "\n",
        "给你一个整数数组 flowerbed 表示花坛，由若干 0 和 1 组成，其中 0 表示没种植花，1 表示种植了花。另有一个数 n ，能否在不打破种植规则的情况下种入 n 朵花？能则返回 true ，不能则返回 false 。\n",
        "\n",
        "\n",
        "\n",
        "示例 1：\n",
        "\n",
        "输入：flowerbed = [1,0,0,0,1], n = 1\n",
        "输出：true\n",
        "示例 2：\n",
        "\n",
        "输入：flowerbed = [1,0,0,0,1], n = 2\n",
        "输出：false"
      ],
      "metadata": {
        "id": "2YtmI9JJf8Vy"
      }
    },
    {
      "cell_type": "markdown",
      "source": [],
      "metadata": {
        "id": "q3De5VEQni0J"
      }
    },
    {
      "cell_type": "code",
      "source": [
        "# self\n",
        "def plant_flower(flower):\n",
        "  for i in flower:\n",
        "    if i == 0:\n",
        "      flower[i+1]\n",
        "    if flower[1]==1:\n"
      ],
      "metadata": {
        "id": "cOX30AO3gFm-"
      },
      "execution_count": null,
      "outputs": []
    }
  ]
}